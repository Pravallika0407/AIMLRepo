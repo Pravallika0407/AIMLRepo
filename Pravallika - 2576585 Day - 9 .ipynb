{
 "cells": [
  {
   "cell_type": "markdown",
   "id": "ffcbfdf6",
   "metadata": {},
   "source": [
    "# 1. Create a 3x3x3 array with random values"
   ]
  },
  {
   "cell_type": "code",
   "execution_count": 3,
   "id": "aadb22c1",
   "metadata": {},
   "outputs": [
    {
     "name": "stdout",
     "output_type": "stream",
     "text": [
      "[[[2.98418787 1.59607821 2.51362236]\n",
      "  [1.46067622 1.59807042 2.29430649]\n",
      "  [1.69451588 1.87716601 1.55238579]]\n",
      "\n",
      " [[2.97395645 1.93136493 2.81597309]\n",
      "  [1.00020483 1.02643014 1.24183347]\n",
      "  [2.2861225  1.2188763  2.85815329]]\n",
      "\n",
      " [[1.12762865 1.58046383 2.13207184]\n",
      "  [2.84183534 2.8381838  1.10642081]\n",
      "  [2.16462508 2.15808586 1.19292738]]]\n"
     ]
    }
   ],
   "source": [
    "import numpy as np\n",
    "\n",
    "# Create a 3x3x3 array with random values between 1 and 3\n",
    "random_array = np.random.uniform(1, 3, size=(3, 3, 3))\n",
    "\n",
    "# Print the random array\n",
    "print(random_array)\n"
   ]
  },
  {
   "cell_type": "markdown",
   "id": "5174def7",
   "metadata": {},
   "source": [
    "# 2. Create a 5x5 matrix with values 1,2,3,4 just below the diagonal"
   ]
  },
  {
   "cell_type": "code",
   "execution_count": 4,
   "id": "a9750045",
   "metadata": {},
   "outputs": [
    {
     "name": "stdout",
     "output_type": "stream",
     "text": [
      "[[0. 0. 0. 0. 0.]\n",
      " [1. 0. 0. 0. 0.]\n",
      " [0. 2. 0. 0. 0.]\n",
      " [0. 0. 3. 0. 0.]\n",
      " [0. 0. 0. 4. 0.]]\n"
     ]
    }
   ],
   "source": [
    "import numpy as np\n",
    "\n",
    "# Create a 5x5 matrix filled with zeros\n",
    "matrix = np.zeros((5, 5))\n",
    "\n",
    "# Fill values 1, 2, 3, 4 just below the diagonal\n",
    "for i in range(1, 5):\n",
    "    matrix[i, i - 1] = i\n",
    "\n",
    "# Print the resulting matrix\n",
    "print(matrix)\n"
   ]
  },
  {
   "cell_type": "markdown",
   "id": "dfcd576d",
   "metadata": {},
   "source": [
    "# 3. Create a 8x8 matrix and fill it with a checkboard pattern"
   ]
  },
  {
   "cell_type": "code",
   "execution_count": 5,
   "id": "9d427391",
   "metadata": {},
   "outputs": [
    {
     "name": "stdout",
     "output_type": "stream",
     "text": [
      "[[0 1 0 1 0 1 0 1]\n",
      " [1 0 1 0 1 0 1 0]\n",
      " [0 1 0 1 0 1 0 1]\n",
      " [1 0 1 0 1 0 1 0]\n",
      " [0 1 0 1 0 1 0 1]\n",
      " [1 0 1 0 1 0 1 0]\n",
      " [0 1 0 1 0 1 0 1]\n",
      " [1 0 1 0 1 0 1 0]]\n"
     ]
    }
   ],
   "source": [
    "import numpy as np\n",
    "\n",
    "# Create an 8x8 matrix filled with zeros\n",
    "matrix = np.zeros((8, 8), dtype=int)\n",
    "\n",
    "# Use array slicing to set alternate rows and columns to 1\n",
    "matrix[1::2, ::2] = 1  # Odd rows, even columns\n",
    "matrix[::2, 1::2] = 1  # Even rows, odd columns\n",
    "\n",
    "# Print the resulting checkerboard pattern matrix\n",
    "print(matrix)\n"
   ]
  },
  {
   "cell_type": "markdown",
   "id": "b7d33aab",
   "metadata": {},
   "source": [
    "# 4.Normalize a 5*5 random matrix"
   ]
  },
  {
   "cell_type": "code",
   "execution_count": 47,
   "id": "fa4ebc76",
   "metadata": {},
   "outputs": [
    {
     "name": "stdout",
     "output_type": "stream",
     "text": [
      "Original matrix:\n",
      "[[0.6405814  0.16626694 0.65970997 0.32977911 0.65201162]\n",
      " [0.55777572 0.98941528 0.83299479 0.22116616 0.49885917]\n",
      " [0.15706849 0.98006238 0.64145122 0.09878271 0.68109475]\n",
      " [0.65792877 0.92859685 0.26548267 0.33773643 0.8824493 ]\n",
      " [0.01787883 0.84114904 0.21257387 0.25177338 0.66847279]]\n",
      "\n",
      "Normalized matrix:\n",
      "[[ 0.38859481 -1.23192444  0.45394851 -0.67327687  0.42764671]\n",
      " [ 0.10568503  1.58040332  1.04598483 -1.04435849 -0.09560635]\n",
      " [-1.26335139  1.54844864  0.39156658 -1.46248769  0.52701069]\n",
      " [ 0.44786295  1.37261406 -0.8929489  -0.6460903   1.21494864]\n",
      " [-1.73889988  1.07384423 -1.07371446 -0.93978738  0.48388714]]\n"
     ]
    }
   ],
   "source": [
    "import numpy as np\n",
    "\n",
    "# Create a random 5x5 matrix\n",
    "random_matrix = np.random.rand(5, 5)\n",
    "\n",
    "# Calculate the mean and standard deviation of the matrix\n",
    "mean = np.mean(random_matrix)\n",
    "std_dev = np.std(random_matrix)\n",
    "\n",
    "# Normalize the matrix\n",
    "normalized_matrix = (random_matrix - mean) / std_dev\n",
    "\n",
    "# Print the normalized matrix\n",
    "print(\"Original matrix:\")\n",
    "print(random_matrix)\n",
    "print(\"\\nNormalized matrix:\")\n",
    "print(normalized_matrix)\n"
   ]
  },
  {
   "cell_type": "markdown",
   "id": "c019e940",
   "metadata": {},
   "source": [
    "# 5. How to find common values between two arrays?"
   ]
  },
  {
   "cell_type": "code",
   "execution_count": 6,
   "id": "d119bbf3",
   "metadata": {},
   "outputs": [
    {
     "name": "stdout",
     "output_type": "stream",
     "text": [
      "[2 4]\n"
     ]
    }
   ],
   "source": [
    "import numpy as np\n",
    "\n",
    "# Define two NumPy arrays\n",
    "array1 = np.array([1, 2, 3, 4, 5])\n",
    "array2 = np.array([2, 4, 9, 6, 7])\n",
    "\n",
    "# Find common values using np.intersect1d\n",
    "common_values = np.intersect1d(array1, array2)\n",
    "\n",
    "# Print the common values\n",
    "print(common_values)\n"
   ]
  },
  {
   "cell_type": "markdown",
   "id": "406693e5",
   "metadata": {},
   "source": [
    "# 6. How to get the dates of yesterday today and tomorrow using numpy?"
   ]
  },
  {
   "cell_type": "code",
   "execution_count": 49,
   "id": "dcbcc341",
   "metadata": {},
   "outputs": [
    {
     "name": "stdout",
     "output_type": "stream",
     "text": [
      "Yesterday: 2023-09-20\n",
      "Today: 2023-09-21\n",
      "Tomorrow: 2023-09-22\n"
     ]
    }
   ],
   "source": [
    "import numpy as np\n",
    "from datetime import datetime, timedelta\n",
    "\n",
    "# Define the current date\n",
    "current_date = datetime.now()\n",
    "\n",
    "# Calculate yesterday, today, and tomorrow\n",
    "yesterday = current_date - timedelta(days=1)\n",
    "today = current_date\n",
    "tomorrow = current_date + timedelta(days=1)\n",
    "\n",
    "# Create NumPy datetime64 arrays for yesterday, today, and tomorrow\n",
    "dates = np.array([yesterday, today, tomorrow], dtype='datetime64[D]')\n",
    "\n",
    "# Print the dates\n",
    "print(\"Yesterday:\", dates[0])\n",
    "print(\"Today:\", dates[1])\n",
    "print(\"Tomorrow:\", dates[2])\n"
   ]
  },
  {
   "cell_type": "markdown",
   "id": "f83c7aa5",
   "metadata": {},
   "source": [
    "# 7. Consider two random array A and B, Check if they are equal"
   ]
  },
  {
   "cell_type": "code",
   "execution_count": 18,
   "id": "3bf2d83a",
   "metadata": {},
   "outputs": [
    {
     "name": "stdout",
     "output_type": "stream",
     "text": [
      "Arrays A and B are not equal.\n"
     ]
    }
   ],
   "source": [
    "import numpy as np\n",
    "\n",
    "# Generate two random arrays A and B\n",
    "size = 5  # You can change the size as needed\n",
    "A = np.random.rand(size)\n",
    "B = np.random.rand(size)\n",
    "\n",
    "# Check if arrays A and B are equal\n",
    "are_equal = np.array_equal(A, B)\n",
    "\n",
    "# Print the result\n",
    "if are_equal:\n",
    "    print(\"Arrays A and B are equal.\")\n",
    "else:\n",
    "    print(\"Arrays A and B are not equal.\")\n"
   ]
  },
  {
   "cell_type": "markdown",
   "id": "cff40ac0",
   "metadata": {},
   "source": [
    "# 8. Create random vector of size 10 and replace the maximum value by 0"
   ]
  },
  {
   "cell_type": "code",
   "execution_count": 20,
   "id": "9f823cfa",
   "metadata": {},
   "outputs": [
    {
     "name": "stdout",
     "output_type": "stream",
     "text": [
      "Random Vector with the Maximum Value Replaced:\n",
      "[0.93174829 0.35396127 0.17149381 0.68335884 0.         0.02383834\n",
      " 0.13937023 0.03545659 0.22025706 0.23944292]\n"
     ]
    }
   ],
   "source": [
    "import numpy as np\n",
    "\n",
    "# Create a random vector of size 10\n",
    "random_vector = np.random.rand(10)\n",
    "\n",
    "# Find the index of the maximum value in the vector\n",
    "max_index = np.argmax(random_vector)\n",
    "\n",
    "# Replace the maximum value with 0\n",
    "random_vector[max_index] = 0\n",
    "\n",
    "print(\"Random Vector with the Maximum Value Replaced:\")\n",
    "print(random_vector)"
   ]
  },
  {
   "cell_type": "markdown",
   "id": "f32fd8a3",
   "metadata": {},
   "source": [
    "# 9. How to print all the values of an array?"
   ]
  },
  {
   "cell_type": "code",
   "execution_count": 23,
   "id": "e8a9875e",
   "metadata": {},
   "outputs": [
    {
     "name": "stdout",
     "output_type": "stream",
     "text": [
      "1\n",
      "2\n",
      "3\n",
      "4\n",
      "5\n"
     ]
    }
   ],
   "source": [
    "import numpy as np\n",
    "\n",
    "my_array = np.array([1, 2, 3, 4, 5])\n",
    "\n",
    "# Using a for loop to print values\n",
    "for value in my_array:\n",
    "    print(value)\n"
   ]
  },
  {
   "cell_type": "markdown",
   "id": "64b34d7a",
   "metadata": {},
   "source": [
    "# 10. Subtract the mean of each row of a matrix"
   ]
  },
  {
   "cell_type": "code",
   "execution_count": 27,
   "id": "caf7d98a",
   "metadata": {},
   "outputs": [
    {
     "name": "stdout",
     "output_type": "stream",
     "text": [
      "[[-1.  0.  1.]\n",
      " [-1.  0.  1.]\n",
      " [-1.  0.  1.]]\n"
     ]
    }
   ],
   "source": [
    "import numpy as np\n",
    "\n",
    "# Create a sample matrix (you can replace this with your matrix)\n",
    "matrix = np.array([[1, 2, 3],\n",
    "                   [4, 5, 6],\n",
    "                   [7, 8, 9]])\n",
    "\n",
    "# Calculate the mean of each row along the columns (axis=1)\n",
    "row_means = np.mean(matrix, axis=1)\n",
    "\n",
    "# Subtract the row means from the matrix\n",
    "centered_matrix = matrix - row_means[:, np.newaxis]\n",
    "\n",
    "# Print the centered matrix\n",
    "print(centered_matrix)\n"
   ]
  },
  {
   "cell_type": "markdown",
   "id": "a7c56ec3",
   "metadata": {},
   "source": [
    "# 11. Consider a given vector, how to add 1 to each element indexed by a second vector( be careful with repeated indices)?"
   ]
  },
  {
   "cell_type": "code",
   "execution_count": 28,
   "id": "f85675f4",
   "metadata": {},
   "outputs": [
    {
     "name": "stdout",
     "output_type": "stream",
     "text": [
      "[2 3 4 5 5]\n"
     ]
    }
   ],
   "source": [
    "import numpy as np\n",
    "\n",
    "# Given vector\n",
    "given_vector = np.array([1, 2, 3, 4, 5])\n",
    "\n",
    "# Second vector containing indices\n",
    "second_vector_indices = np.array([1, 3, 0, 2, 3])\n",
    "\n",
    "# Create an array to keep track of modified indices\n",
    "modified_indices = np.zeros_like(given_vector, dtype=bool)\n",
    "\n",
    "# Add 1 to elements indexed by the second vector\n",
    "for index in second_vector_indices:\n",
    "    if not modified_indices[index]:\n",
    "        given_vector[index] += 1\n",
    "        modified_indices[index] = True\n",
    "\n",
    "# Print the resulting vector\n",
    "print(given_vector)\n"
   ]
  },
  {
   "cell_type": "markdown",
   "id": "58b949ca",
   "metadata": {},
   "source": [
    "# 12. How to get the diagonal of a dot product?"
   ]
  },
  {
   "cell_type": "code",
   "execution_count": 30,
   "id": "511b8afd",
   "metadata": {},
   "outputs": [
    {
     "name": "stdout",
     "output_type": "stream",
     "text": [
      "Dot Product Matrix:\n",
      "[[ 30  24  18]\n",
      " [ 84  69  54]\n",
      " [138 114  90]]\n",
      "\n",
      "Diagonal Elements of Dot Product:\n",
      "[30 69 90]\n"
     ]
    }
   ],
   "source": [
    "import numpy as np\n",
    "\n",
    "# Define two matrices A and B\n",
    "A = np.array([[1, 2, 3],\n",
    "              [4, 5, 6],\n",
    "              [7, 8, 9]])\n",
    "\n",
    "B = np.array([[9, 8, 7],\n",
    "              [6, 5, 4],\n",
    "              [3, 2, 1]])\n",
    "\n",
    "# Compute the dot product of A and B\n",
    "dot_product = np.dot(A, B)\n",
    "\n",
    "# Extract the diagonal elements of the dot product matrix\n",
    "diagonal_elements = np.diag(dot_product)\n",
    "\n",
    "print(\"Dot Product Matrix:\")\n",
    "print(dot_product)\n",
    "\n",
    "print(\"\\nDiagonal Elements of Dot Product:\")\n",
    "print(diagonal_elements)"
   ]
  },
  {
   "cell_type": "markdown",
   "id": "59787c0f",
   "metadata": {},
   "source": [
    "# 13. How to find the most frequent value in an array?"
   ]
  },
  {
   "cell_type": "code",
   "execution_count": 37,
   "id": "7d7be595",
   "metadata": {},
   "outputs": [
    {
     "data": {
      "text/plain": [
       "array([19, 18,  7,  6,  5, 10,  0, 16,  2,  5, 11,  2,  3,  6, 19, 18,  0,\n",
       "        2,  4, 13, 11,  9, 18,  8,  0, 19, 19, 12, 11, 12,  0, 12,  0, 15,\n",
       "        0, 19,  2, 19, 11, 16,  7, 14, 18, 14, 11, 11,  4,  0, 15, 14])"
      ]
     },
     "execution_count": 37,
     "metadata": {},
     "output_type": "execute_result"
    }
   ],
   "source": [
    "x = np.random.randint(0,20,50)\n",
    "x"
   ]
  },
  {
   "cell_type": "code",
   "execution_count": 66,
   "id": "964820a4",
   "metadata": {},
   "outputs": [
    {
     "name": "stdout",
     "output_type": "stream",
     "text": [
      "Most frequent value: 3\n"
     ]
    }
   ],
   "source": [
    "import numpy as np\n",
    "\n",
    "# Create the random NumPy array\n",
    "x = np.random.randint(0, 10, 50)\n",
    "\n",
    "# Use NumPy to find the most frequent value\n",
    "most_common_value = np.bincount(x).argmax()\n",
    "\n",
    "print(\"Most frequent value:\", most_common_value)"
   ]
  },
  {
   "cell_type": "markdown",
   "id": "76ea09bc",
   "metadata": {},
   "source": [
    "# 14. How to get the largest values of an array"
   ]
  },
  {
   "cell_type": "code",
   "execution_count": 60,
   "id": "b417723a",
   "metadata": {},
   "outputs": [
    {
     "name": "stdout",
     "output_type": "stream",
     "text": [
      "[15 18 20]\n"
     ]
    }
   ],
   "source": [
    "import numpy as np\n",
    "\n",
    "# Create a sample NumPy array (replace this with your array)\n",
    "arr = np.array([10, 5, 8, 12, 15, 7, 20, 18])\n",
    "\n",
    "# Find the largest values (let's find the top 3 largest values)\n",
    "n = 3\n",
    "largest_values = np.sort(arr)[-n:]\n",
    "\n",
    "# Print the largest values\n",
    "print(largest_values)\n"
   ]
  },
  {
   "cell_type": "markdown",
   "id": "a2675bd4",
   "metadata": {},
   "source": [
    "# 15. How to create a record array from a regular array?"
   ]
  },
  {
   "cell_type": "code",
   "execution_count": 68,
   "id": "1eacee4e",
   "metadata": {},
   "outputs": [
    {
     "name": "stdout",
     "output_type": "stream",
     "text": [
      "[1 2 3]\n",
      "['Pravs' 'Vaishu' 'Priya']\n",
      "[25 30 22]\n"
     ]
    }
   ],
   "source": [
    "import numpy as np\n",
    "\n",
    "# Create a regular array with data\n",
    "data = [(1, 'Pravs', 25),\n",
    "        (2, 'Vaishu', 30),\n",
    "        (3, 'Priya', 22)]\n",
    "\n",
    "# Define data types and field names for the record array\n",
    "dtypes = [('id', int), ('name', 'U10'), ('age', int)]\n",
    "\n",
    "# Create the record array\n",
    "record_array = np.array(data, dtype=dtypes)\n",
    "\n",
    "# Access elements by field name\n",
    "print(record_array['id'])   # Access the 'id' field\n",
    "print(record_array['name']) # Access the 'name' field\n",
    "print(record_array['age'])  # Access the 'age' field"
   ]
  },
  {
   "cell_type": "markdown",
   "id": "e299fd75",
   "metadata": {},
   "source": [
    "# 16.  How to swap two rows of an array?"
   ]
  },
  {
   "cell_type": "code",
   "execution_count": 48,
   "id": "52270ad8",
   "metadata": {},
   "outputs": [
    {
     "name": "stdout",
     "output_type": "stream",
     "text": [
      "Array with Rows Swapped:\n",
      "[[7 8 9]\n",
      " [4 5 6]\n",
      " [1 2 3]]\n"
     ]
    }
   ],
   "source": [
    "import numpy as np\n",
    "\n",
    "# Create an example 2D array\n",
    "array = np.array([[1, 2, 3],\n",
    "                  [4, 5, 6],\n",
    "                  [7, 8, 9]])\n",
    "\n",
    "# Define the indices of the rows you want to swap\n",
    "row1_index = 0  # Index of the first row (0-based)\n",
    "row2_index = 2  # Index of the second row (0-based)\n",
    "\n",
    "# Swap the rows\n",
    "array[row1_index], array[row2_index] = array[row2_index].copy(), array[row1_index].copy()\n",
    "\n",
    "print(\"Array with Rows Swapped:\")\n",
    "print(array)"
   ]
  },
  {
   "cell_type": "markdown",
   "id": "0a6289bf",
   "metadata": {},
   "source": [
    "# 17. Write python code to reshape to the next dimension of numpy array?"
   ]
  },
  {
   "cell_type": "code",
   "execution_count": 50,
   "id": "6dc7cbaa",
   "metadata": {},
   "outputs": [
    {
     "name": "stdout",
     "output_type": "stream",
     "text": [
      "Original Array:\n",
      "[[ 23  34 121]\n",
      " [ 23  22  67]\n",
      " [686 434 123]]\n",
      "\n",
      "Reshaped Array to the Next Dimension:\n",
      "[[ 23  34 121]\n",
      " [ 23  22  67]\n",
      " [686 434 123]]\n"
     ]
    }
   ],
   "source": [
    "import numpy as np\n",
    "\n",
    "# Create the original array\n",
    "x = np.array([[23, 34, 121],\n",
    "              [23, 22, 67],\n",
    "              [686, 434, 123]])\n",
    "\n",
    "# Reshape the array to the next dimension\n",
    "reshaped_array = x.reshape(-1, x.shape[-1])\n",
    "\n",
    "print(\"Original Array:\")\n",
    "print(x)\n",
    "\n",
    "print(\"\\nReshaped Array to the Next Dimension:\")\n",
    "print(reshaped_array)"
   ]
  },
  {
   "cell_type": "code",
   "execution_count": null,
   "id": "4562c364",
   "metadata": {},
   "outputs": [],
   "source": []
  }
 ],
 "metadata": {
  "kernelspec": {
   "display_name": "Python 3 (ipykernel)",
   "language": "python",
   "name": "python3"
  },
  "language_info": {
   "codemirror_mode": {
    "name": "ipython",
    "version": 3
   },
   "file_extension": ".py",
   "mimetype": "text/x-python",
   "name": "python",
   "nbconvert_exporter": "python",
   "pygments_lexer": "ipython3",
   "version": "3.11.4"
  }
 },
 "nbformat": 4,
 "nbformat_minor": 5
}
