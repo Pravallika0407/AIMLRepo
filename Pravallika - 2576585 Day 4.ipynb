{
 "cells": [
  {
   "cell_type": "markdown",
   "id": "c670775c",
   "metadata": {},
   "source": [
    "# 1. Write a python program with Exception handling to input marks for five subjects Physics. Chemistry, Biology, Mathematics, and Computer."
   ]
  },
  {
   "cell_type": "raw",
   "id": "0bfff7f5",
   "metadata": {},
   "source": [
    "Calculate the percentage and grade according to the following: i) percentage >= 90%: Grade A ii) percentage >= 80%: Grade B iii) percentage >= 70%: Grade C iv) percentage >= 60%: Grade D v) percentage >= 40%: Grade E vi) percentage < 40%: Grade F"
   ]
  },
  {
   "cell_type": "code",
   "execution_count": 1,
   "id": "82be2f3b",
   "metadata": {},
   "outputs": [
    {
     "name": "stdout",
     "output_type": "stream",
     "text": [
      "Enter Physics marks: 90\n",
      "Enter Chemistry marks: 95\n",
      "Enter Biology marks: 80\n",
      "Enter Mathematics marks: 85\n",
      "Enter Computer marks: 75\n",
      "Percentage: 85.000% \n",
      "Grade: Grade B\n"
     ]
    }
   ],
   "source": [
    "def Calculat_percent():\n",
    "    try:\n",
    "        Physics = float(input(\"Enter Physics marks: \"))\n",
    "        Chemistry = float(input(\"Enter Chemistry marks: \"))\n",
    "        Biology = float(input(\"Enter Biology marks: \"))\n",
    "        Mathematics = float(input(\"Enter Mathematics marks: \"))\n",
    "        Computer = float(input(\"Enter Computer marks: \"))\n",
    "        count = 5\n",
    "        Total_marks = Physics + Chemistry + Biology + Mathematics + Computer\n",
    "        Percentage = (Total_marks / (count*100)) * 100\n",
    "        if Percentage >= 90:\n",
    "            Grade = \"Grade A\"\n",
    "        elif Percentage >= 80:\n",
    "            Grade = \"Grade B\"\n",
    "        elif Percentage >= 70:\n",
    "            Grade = \"Grade C\"\n",
    "        elif Percentage >= 60:\n",
    "            Grade = \"Grade D\"\n",
    "        elif Percentage >= 40:\n",
    "            Grade = \"Grade E\"\n",
    "        else:\n",
    "            Grade = \"Grade F\"\n",
    "        print(f\"Percentage: {Percentage:.3f}% \")\n",
    "        print(f\"Grade: {Grade}\")\n",
    "    except ValueError:\n",
    "        print(\"Invalid input. Please enter valid numeric marks.\")\n",
    "    except Exception as e:\n",
    "        print(f\"An error occurred: {e}\")\n",
    "Calculat_percent()"
   ]
  },
  {
   "cell_type": "markdown",
   "id": "037f0d5c",
   "metadata": {},
   "source": [
    "# 2: Write a python program with Exception handling to input Electricity unit charges and calculate the total electricity bill according to the given condition"
   ]
  },
  {
   "cell_type": "raw",
   "id": "9e85e7b5",
   "metadata": {},
   "source": [
    "i) For the first 50 units Rs. 0.50/unit ii) For the first 100 units Rs. 0.75/unit\n",
    "iii) For the first 100 units Rs. 1.20/unit\n",
    "iv) For the first 250 units Rs. 1.50/unit\n",
    "v) An additional subcharge of 20% is added to the bill"
   ]
  },
  {
   "cell_type": "code",
   "execution_count": 2,
   "id": "119c0fa8",
   "metadata": {},
   "outputs": [
    {
     "name": "stdout",
     "output_type": "stream",
     "text": [
      "Enter the number of units: 60\n",
      "Total Bill for 60.0 is: Rs. 39.000\n"
     ]
    }
   ],
   "source": [
    "def electricity_bill():\n",
    "    try:\n",
    "        units = float(input(\"Enter the number of units: \"))\n",
    "        bill = 0.0\n",
    "        subcharge = 0.0\n",
    "        if units <= 50:\n",
    "            bill = units * 0.50\n",
    "        elif units <= 100:\n",
    "            bill = 50 * 0.50 + (units-50)* 0.75\n",
    "        elif units <= 200:\n",
    "            bill = 50 * 0.50 + 50* 0.75 +(units-100)*1.20\n",
    "        else:\n",
    "            bill = 50 * 0.50 + 50 * 0.75 + 100 * 1.20 +(units-200) * 1.50\n",
    "        subcharge = bill * 0.20\n",
    "        total = bill + subcharge\n",
    "        print(f\"Total Bill for {units} is: Rs. {total:.3f}\")\n",
    "    except ValueError:\n",
    "        print(\"Invalid input\")\n",
    "        print(\"Enter a valid numeric value\")\n",
    "    except Exception as e:\n",
    "        print(f\"An error occured: {e}\")\n",
    "electricity_bill()"
   ]
  },
  {
   "cell_type": "markdown",
   "id": "92ec6f1f",
   "metadata": {},
   "source": [
    "# 3. write a python program with Exception handling to input the week number and print the respectiveweekday\n"
   ]
  },
  {
   "cell_type": "code",
   "execution_count": 3,
   "id": "170bae8a",
   "metadata": {},
   "outputs": [
    {
     "name": "stdout",
     "output_type": "stream",
     "text": [
      "Enter the Week number: 6\n",
      " Day6 in a week is: Saturday\n"
     ]
    }
   ],
   "source": [
    "def week_day():\n",
    "    try:\n",
    "        week_number = int(input(\"Enter the Week number: \"))\n",
    "        Days = [\"Monday\", \"Tuesday\", \"Wednesday\", \"Thursday\", \"Friday\", \"Saturday\", \"Sunday\"]\n",
    "        if 1<=week_number and week_number<=7:\n",
    "            print(f\" Day{week_number} in a week is: {Days[week_number-1]}\")\n",
    "        else:\n",
    "            print(\"Enter the week number between 1 to 7\")\n",
    "    except ValueError:\n",
    "        print(\"Invalid input\")\n",
    "        print(\"enter a valid week number 1 to 7\")\n",
    "    except SyntaxError:\n",
    "        print(\"Invalid Syntax in the code\")\n",
    "    except Exception as e:\n",
    "        print(f\"An error occurred: {e}\")\n",
    "week_day()"
   ]
  },
  {
   "cell_type": "markdown",
   "id": "73654840",
   "metadata": {},
   "source": [
    "# 4: Write a python program to implement word count using command line arguments"
   ]
  },
  {
   "cell_type": "raw",
   "id": "bc8905bd",
   "metadata": {},
   "source": [
    "i) create a text document \"apple.txt\" which contains text for wordcount ii) create a wordcount program which call the \"apple.txt\" document by opening the file iii) If the word is present again in the \"apple.txt\", the wordcount is incremented by 1 until all the words are counted in the document iv) close the file v) create a command.py program which imports the wordcount.py program vi) count the number of words using command line argumnets vii) print each word and its count"
   ]
  },
  {
   "cell_type": "code",
   "execution_count": null,
   "id": "85f7969e",
   "metadata": {},
   "outputs": [],
   "source": [
    "import sys\n",
    "def count_words(input_file):\n",
    "    word_counts = {}\n",
    "    try:\n",
    "        with open(input_file, 'r') as file:\n",
    "            for line in file:\n",
    "                words = line.split()\n",
    "                for word in words:\n",
    "                    word = word.lower() \n",
    "                    if word in word_counts:\n",
    "                        word_counts[word] += 1\n",
    "                    else:\n",
    "                        word_counts[word] = 1\n",
    "    except FileNotFoundError:\n",
    "        print(f\"File '{filename}' not found.\")\n",
    "    except Exception as e:\n",
    "        print(f\"An error occurred: {e}\")\n",
    "    return word_counts\n",
    "if __name__ == \"__main__\":\n",
    "    if len(sys.argv) != 2:\n",
    "        print(\"Usage: python your_script.py <filename>\")\n",
    "        sys.exit(1)\n",
    "    input_file = sys.argv[1]\n",
    "    num_of_words = count_words(input_file)\n",
    "    for word, count in num_of_words.items():\n",
    "        print(f\"word: {word} and its count: [{count}]\")"
   ]
  },
  {
   "cell_type": "raw",
   "id": "1b0b8b85",
   "metadata": {},
   "source": [
    "word: python and its count: [3]\n",
    "word: has and its count: [2]\n",
    "word: a and its count: [1]\n",
    "word: simple and its count: [1]\n",
    "word: syntax and its count: [2]\n",
    "word: similar and its count: [1]\n",
    "word: to and its count: [2]\n",
    "word: the and its count: [1]\n",
    "word: english and its count: [1]\n",
    "word: language. and its count: [1]\n",
    "word: that and its count: [3]\n",
    "word: allows and its count: [1]\n",
    "word: developers and its count: [1]\n",
    "word: write and its count: [1]\n",
    "word: programs and its count: [1]\n",
    "word: with and its count: [1]\n",
    "word: fewer and its count: [1]\n",
    "word: lines and its count: [1]\n",
    "word: than and its count: [1]\n",
    "word: some and its count: [1]\n",
    "word: other and its count: [1]\n",
    "word: programming and its count: [1]\n",
    "word: languages. and its count: [1]\n",
    "word: runs and its count: [1]\n",
    "word: on and its count: [1]\n",
    "word: an and its count: [1]\n",
    "word: interpreter and its count: [1]\n",
    "word: system, and its count: [1]\n",
    "word: meaning and its count: [1]\n",
    "word: code and its count: [1]\n",
    "word: can and its count: [2]\n",
    "word: be and its count: [2]\n",
    "word: executed and its count: [1]\n",
    "word: as and its count: [2]\n",
    "word: soon and its count: [1]\n",
    "word: it and its count: [1]\n",
    "word: is and its count: [1]\n",
    "word: written. and its count: [1]\n",
    "word: this and its count: [1]\n",
    "word: means and its count: [1]\n",
    "word: prototyping and its count: [1]\n",
    "word: very and its count: [1]\n",
    "word: quick. and its count: [1]"
   ]
  },
  {
   "cell_type": "markdown",
   "id": "f9709acd",
   "metadata": {},
   "source": [
    "# 5. Write a python program for finding the most frequent words in a text read from a file"
   ]
  },
  {
   "cell_type": "raw",
   "id": "ec9ca3a2",
   "metadata": {},
   "source": [
    "i) Initially open the text file in read mode ii) make all the letters in the document into lowercase letters and spilit the words in each line iii) get the words in an order iv) sort the words for finding the most frequent words in the file v) print the most frequent words in the file"
   ]
  },
  {
   "cell_type": "code",
   "execution_count": 1,
   "id": "b57d80a9",
   "metadata": {},
   "outputs": [
    {
     "name": "stdout",
     "output_type": "stream",
     "text": [
      "how many number of frequent words: 7\n",
      "Top 7 most frequent words in 'C:/Users/KALIMI PRAKASH/file1.txt':\n",
      "1. machine: 4 times\n",
      "2. and: 4 times\n",
      "3. learning: 3 times\n",
      "4. a: 3 times\n",
      "5. of: 3 times\n",
      "6. the: 3 times\n",
      "7. data: 2 times\n"
     ]
    }
   ],
   "source": [
    "def most_freq(input_file):\n",
    "    try:\n",
    "        num_words = int(input(\"how many number of frequent words: \"))\n",
    "        with open(input_file, 'r') as inp:\n",
    "            line = inp.read()\n",
    "        words = line.lower().split()\n",
    "        word_freq = {}\n",
    "        for word in words:\n",
    "            if word in word_freq:\n",
    "                word_freq[word] += 1\n",
    "            else:\n",
    "                word_freq[word] = 1\n",
    "        sorted_words = sorted(word_freq.items(), key=lambda x: x[1], reverse=True)\n",
    "        print(f\"Top {num_words} most frequent words in '{input_file}':\")\n",
    "        for i, (word, freq) in enumerate(sorted_words[:num_words], 1):\n",
    "            print(f\"{i}. {word}: {freq} times\")\n",
    "    except FileNotFoundError:\n",
    "        print(f\"File '{input_file}' not found.\")\n",
    "    except Exception as e:\n",
    "        print(f\"An error occurred: {e}\")\n",
    "# if __name__ == \"__main__\":\n",
    "input_file = \"C:/Users/KALIMI PRAKASH/file1.txt\"\n",
    "most_freq(input_file)"
   ]
  },
  {
   "cell_type": "markdown",
   "id": "5f3e8618",
   "metadata": {},
   "source": [
    "# 6: File Processing with command line arguments scenario:"
   ]
  },
  {
   "cell_type": "raw",
   "id": "9a80bf97",
   "metadata": {},
   "source": [
    "You are developing a command line utility that process text files Users can specify input and output file paths as commadn line arguments Your program should handle exception graecefully i) Design a python program that takes two command-line arguments: the input file path and the output file path. Ensure that the program checks if both arguments are provided and that the input file exits ii)Implement error handling to deal with sccenario such as missing input files, invalid file paths, or permission issues when writing to the output file iii) If an error occurs during file processing display a user friendly error message and exit the program with non-zero exit code iv) write test cases that cover various senarios, including providing valid and invalid file paths as command-line arguments"
   ]
  },
  {
   "cell_type": "code",
   "execution_count": null,
   "id": "838c8e3e",
   "metadata": {},
   "outputs": [],
   "source": [
    "import sys\n",
    "\n",
    "def process_files(input_file, output_file):\n",
    "    try:\n",
    "        if not input_file or not output_file:\n",
    "            raise ValueError(\"Both input and output file paths must be provided.\")\n",
    "\n",
    "        with open(input_file, 'r') as inp:\n",
    "            content = inp.read()\n",
    "\n",
    "        processed_content = content.upper()  \n",
    "        with open(output_file, 'w') as output:\n",
    "            output.write(processed_content)\n",
    "\n",
    "        print(\"File processing completed successfully.\")\n",
    "\n",
    "    except FileNotFoundError:\n",
    "        print(\"Input file not found.\")\n",
    "        sys.exit(1)\n",
    "    except PermissionError:\n",
    "        print(\"Permission denied while writing to the output file.\")\n",
    "        sys.exit(1)\n",
    "    except Exception as e:\n",
    "        print(f\"An error occurred: {e}\")\n",
    "        sys.exit(1)\n",
    "\n",
    "if __name__ == \"__main__\":\n",
    "    if len(sys.argv) != 3:\n",
    "        print(\"Usage: python your_program.py <input_file_path> <output_file_path>\")\n",
    "        sys.exit(1)\n",
    "\n",
    "    input_file = sys.argv[1]\n",
    "    output_file = sys.argv[2]\n",
    "\n",
    "    process_files(input_file, output_file)\n",
    "    "
   ]
  },
  {
   "cell_type": "raw",
   "id": "46ac75ea",
   "metadata": {},
   "source": [
    "File processing completed successfully."
   ]
  }
 ],
 "metadata": {
  "kernelspec": {
   "display_name": "Python 3 (ipykernel)",
   "language": "python",
   "name": "python3"
  },
  "language_info": {
   "codemirror_mode": {
    "name": "ipython",
    "version": 3
   },
   "file_extension": ".py",
   "mimetype": "text/x-python",
   "name": "python",
   "nbconvert_exporter": "python",
   "pygments_lexer": "ipython3",
   "version": "3.11.4"
  }
 },
 "nbformat": 4,
 "nbformat_minor": 5
}
