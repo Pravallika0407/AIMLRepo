{
 "cells": [
  {
   "cell_type": "markdown",
   "id": "5cc5e6db",
   "metadata": {},
   "source": [
    "# 1.module import and management\n",
    "Scenario: You are developing a complex Python project with multiple modules. To manage the project effectively, you need to import and use various modules. Additionally, you want to organize your code using namespaces and avoid naming conflicts. Design a Python program that demonstrates the following:\n",
    "\n",
    "1. Import multiple modules within your project.\n",
    "2. Use the import statement to access functions, classes, and variables modules.\n",
    "3. Create your custom module and use it in your main program.\n",
    "4. Handle naming conflicts and ensure proper namespacing\n",
    "5. Implement error handling for missing modules or incorrect module usage"
   ]
  },
  {
   "cell_type": "code",
   "execution_count": null,
   "id": "08856dff",
   "metadata": {},
   "outputs": [],
   "source": []
  },
  {
   "cell_type": "code",
   "execution_count": 2,
   "id": "6c870bd4",
   "metadata": {},
   "outputs": [],
   "source": [
    "# creating modules\n",
    "# %%writefile calculator.py\n",
    "calculator_code = '''\n",
    "# sum function it takes two paramenters \n",
    "# and return the summation of those two\n",
    "def sum(a, b):\n",
    "    return a+b\n",
    "\n",
    "# sub function it takes two paramenters \n",
    "# and return the subtraction of those two\n",
    "def sub(a, b):\n",
    "    return (a-b)\n",
    "\n",
    "# mul function it takes two paramenters \n",
    "# and return the multiplication of those two\n",
    "def mul(a, b):\n",
    "    return a*b\n",
    "\n",
    "# div function it takes two paramenters \n",
    "# and return the division of those two\n",
    "\n",
    "def div(a, b):\n",
    "    try:\n",
    "        return a/b\n",
    "    except ZeroDivisionError:\n",
    "        print(\"Divison can not be done with '0' as denominator\")\n",
    "        print(\"Enter some other number\")\n",
    "\n",
    "\n",
    "\n",
    "\n",
    "\n",
    "'''\n",
    "\n",
    "with open(\"calculator.py\", \"w\") as calc:\n",
    "    calc.write(calculator_code)"
   ]
  },
  {
   "cell_type": "code",
   "execution_count": 3,
   "id": "50eb6ac2",
   "metadata": {},
   "outputs": [
    {
     "name": "stdout",
     "output_type": "stream",
     "text": [
      "choose option\n",
      " a = addition\n",
      " b = subtraction\n",
      " c = multiplication\n",
      " d = division\n",
      "  0 = exit\n",
      " \n",
      "Enter ur choice: a\n",
      "You choose Addition operation\n",
      "Enter the first number: 4\n",
      "Enter the second number: 5\n",
      "\n",
      "result: 9\n",
      "\n",
      "choose option\n",
      " a = addition\n",
      " b = subtraction\n",
      " c = multiplication\n",
      " d = division\n",
      "  0 = exit\n",
      " \n",
      "Enter ur choice: c\n",
      "You choose Multiplication operation\n",
      "Enter the first number: 5\n",
      "Enter the second number: 8\n",
      "\n",
      "result: 40\n",
      "\n",
      "choose option\n",
      " a = addition\n",
      " b = subtraction\n",
      " c = multiplication\n",
      " d = division\n",
      "  0 = exit\n",
      " \n",
      "Enter ur choice: 0\n",
      "result: closed the calculator:\n"
     ]
    }
   ],
   "source": [
    "import calculator as calc\n",
    "result = \"\\nclosed\\n\"\n",
    "try:\n",
    "    while True:\n",
    "            print(\"choose option\\n a = addition\\n b = subtraction\\n c = multiplication\\n d = division\\n  0 = exit\\n \")\n",
    "            choice = input(\"Enter ur choice: \").lower()\n",
    "            try:\n",
    "                if(choice >= \"0\" and choice<=\"9\"):\n",
    "                    break\n",
    "                elif(choice == \"a\"):\n",
    "                    print(\"You choose Addition operation\")\n",
    "                    a = int(input(\"Enter the first number: \"))\n",
    "                    b = int(input(\"Enter the second number: \"))  \n",
    "                    result = calc.sum(a, b)\n",
    "\n",
    "                elif(choice == \"b\"):\n",
    "                    print(\"You choose Subtraction operation\")\n",
    "                    a = int(input(\"Enter the first number: \"))\n",
    "                    b = int(input(\"Enter the second number: \"))            \n",
    "                    result = calc.sub(a, b)\n",
    "\n",
    "                elif(choice == \"c\"):\n",
    "                    print(\"You choose Multiplication operation\")\n",
    "                    a = int(input(\"Enter the first number: \"))\n",
    "                    b = int(input(\"Enter the second number: \"))            \n",
    "                    result = calc.mul(a, b)\n",
    "                elif(choice == \"d\"):\n",
    "                    print(\"You choose Divison operation\")\n",
    "                    a = int(input(\"Enter the first number: \"))\n",
    "                    b = int(input(\"Enter the second number: \"))            \n",
    "                \n",
    "                print(f\"\\nresult: {result}\\n\")\n",
    "            except ValueError as e:\n",
    "                print(\"Check entered value: {e} \")\n",
    "\n",
    "except BaseException as e:\n",
    "    print(\"Check and re-enter your values again : exception is {e}\")\n",
    "finally:\n",
    "    print(f\"result: closed the calculator:\")"
   ]
  },
  {
   "cell_type": "markdown",
   "id": "2c3fe53d",
   "metadata": {},
   "source": [
    "# 2.virtual environment management"
   ]
  },
  {
   "cell_type": "code",
   "execution_count": null,
   "id": "a20871d6",
   "metadata": {},
   "outputs": [],
   "source": [
    "Scenario: You are working on multiple python projects with different dependencies and versions. To avoid conflicts and ensure project isolation, You decide to use virtual environments.\n",
    "\n",
    "Create a python program that demostrated the following:\n",
    "\n",
    "1. Create a virtual environment for a specific peoject\n",
    "2. activate and deactivate virtual environments\n",
    "3. Install , Upgrade and uninstall packages within a virtual environment\n",
    "4. list the installed packages in a virtual environment\n",
    "5. implement error handling for virtual environment operations"
   ]
  },
  {
   "cell_type": "code",
   "execution_count": null,
   "id": "189beb55",
   "metadata": {},
   "outputs": [],
   "source": [
    "Implemented these all in command prompt manually  and we can see the virtual environment folder with its name "
   ]
  },
  {
   "cell_type": "markdown",
   "id": "7a0a9264",
   "metadata": {},
   "source": [
    "# 3 Module Dependency Resolution"
   ]
  },
  {
   "cell_type": "code",
   "execution_count": null,
   "id": "2eed2448",
   "metadata": {},
   "outputs": [],
   "source": [
    "Scenario: Ypu are developing a python application that relies on third-party packages. Managing dependies and ensuring compatibility is crucial for your project's Success.\n",
    "\n",
    "Design a Python Prpgram that demonstrates the following:\n",
    "\n",
    "1.Use a requirements.txt file to specify project dependencies\n",
    "2.Automatically install all project dependencies from the requirements.txt file\n",
    "3.Ensure that the versions of installed packages are compatible\n",
    "4.Implement error handling for dependency resolution and installation"
   ]
  },
  {
   "cell_type": "code",
   "execution_count": null,
   "id": "fcba45b9",
   "metadata": {},
   "outputs": [],
   "source": [
    "Implemented these all in command prompt manually in the same directory and we can see the virtual environment and the requirements."
   ]
  },
  {
   "cell_type": "markdown",
   "id": "9790893d",
   "metadata": {},
   "source": [
    "# Database Programming with MySQL"
   ]
  },
  {
   "cell_type": "markdown",
   "id": "9de5c40d",
   "metadata": {},
   "source": [
    "# 1.Implement Inventory Management in python with MySQL"
   ]
  },
  {
   "cell_type": "raw",
   "id": "dd801867",
   "metadata": {},
   "source": [
    "a) Inventory Management, a critical element of supply chain, \n",
    "is the tracking of inventory from manufactire to warehouses \n",
    "and from these facilities to a point of sale.\n",
    "The goal of inventory management is to have the right products \n",
    "in the right place at the right time\n",
    "\n",
    "b)The required Database is Inventory, \n",
    "and the required Tables are purchases, sales and Inventory\n",
    "c) Note: Apply you thoughts to demonstrate the DB operations in python"
   ]
  },
  {
   "cell_type": "code",
   "execution_count": 4,
   "id": "489911de",
   "metadata": {},
   "outputs": [
    {
     "name": "stdout",
     "output_type": "stream",
     "text": [
      "Database and tables created successfully.\n"
     ]
    }
   ],
   "source": [
    "import mysql.connector\n",
    "\n",
    "# Define the MySQL connection parameters\n",
    "db_config = {\n",
    "    \"host\": \"127.0.0.1\",        # Change this to your MySQL server's host\n",
    "    \"user\": \"root\",    # Your MySQL username\n",
    "    \"password\": \"Pravallika@123\" # Your MySQL password\n",
    "}\n",
    "\n",
    "# Create a connection to MySQL\n",
    "conn = mysql.connector.connect(**db_config)\n",
    "\n",
    "# Create a cursor object to execute SQL commands\n",
    "cursor = conn.cursor()\n",
    "\n",
    "# Create the \"invent\" database if it doesn't exist\n",
    "cursor.execute(\"CREATE DATABASE IF NOT EXISTS invent\")\n",
    "\n",
    "# Switch to the \"invent\" database\n",
    "cursor.execute(\"USE invent\")\n",
    "\n",
    "# Create the \"purchases\" table\n",
    "cursor.execute(\"\"\"\n",
    "    CREATE TABLE IF NOT EXISTS purchases (\n",
    "        id INT AUTO_INCREMENT PRIMARY KEY,\n",
    "        product_id INT NOT NULL,\n",
    "        purchase_date DATE NOT NULL,\n",
    "        quantity INT NOT NULL,\n",
    "        unit_price DECIMAL(10, 2) NOT NULL,\n",
    "        total_price DECIMAL(10, 2) NOT NULL\n",
    "    )\n",
    "\"\"\")\n",
    "\n",
    "# Create the \"sales\" table\n",
    "cursor.execute(\"\"\"\n",
    "    CREATE TABLE IF NOT EXISTS sales (\n",
    "        id INT AUTO_INCREMENT PRIMARY KEY,\n",
    "        product_id INT NOT NULL,\n",
    "        sale_date DATE NOT NULL,\n",
    "        quantity INT NOT NULL,\n",
    "        unit_price DECIMAL(10, 2) NOT NULL,\n",
    "        total_price DECIMAL(10, 2) NOT NULL\n",
    "    )\n",
    "\"\"\")\n",
    "\n",
    "# Create the \"inventory\" table\n",
    "cursor.execute(\"\"\"\n",
    "    CREATE TABLE IF NOT EXISTS inventory (\n",
    "        id INT AUTO_INCREMENT PRIMARY KEY,\n",
    "        name VARCHAR(255) NOT NULL,\n",
    "        current_quantity INT NOT NULL,\n",
    "        unit_price DECIMAL(10, 2) NOT NULL\n",
    "    )\n",
    "\"\"\")\n",
    "\n",
    "# Commit the changes and close the cursor and connection\n",
    "conn.commit()\n",
    "cursor.close()\n",
    "conn.close()\n",
    "\n",
    "print(\"Database and tables created successfully.\")"
   ]
  },
  {
   "cell_type": "markdown",
   "id": "c8baa9f4",
   "metadata": {},
   "source": [
    "# 2.customer order processing"
   ]
  },
  {
   "cell_type": "code",
   "execution_count": 6,
   "id": "0f5e9db8",
   "metadata": {},
   "outputs": [
    {
     "name": "stdout",
     "output_type": "stream",
     "text": [
      "Order placed successfully!\n"
     ]
    }
   ],
   "source": [
    "#Python program that connects to the database and allows customers to place new orders.\n",
    "import mysql.connector\n",
    "\n",
    "# Connect to the MySQL database\n",
    "db = mysql.connector.connect(\n",
    "    host=\"127.0.0.1\",\n",
    "    user=\"root\",\n",
    "    password=\"Pravallika@123\",\n",
    "    database=\"order_processing\"\n",
    ")\n",
    "\n",
    "cursor = db.cursor()\n",
    "\n",
    "# Function to place a new order\n",
    "def place_order(customer_id, product_id, quantity):\n",
    "    try:\n",
    "        # Check if the product is available\n",
    "        cursor.execute(\"SELECT quantity_available FROM Products WHERE product_id = %s\", (product_id,))\n",
    "        result = cursor.fetchone()\n",
    "\n",
    "        if result is not None:\n",
    "            available_quantity = result[0]\n",
    "            if available_quantity >= quantity:\n",
    "                # Calculate the total cost\n",
    "                cursor.execute(\"SELECT price FROM Products WHERE product_id = %s\", (product_id,))\n",
    "                result = cursor.fetchone()\n",
    "                if result is not None:\n",
    "                    unit_price = result[0]\n",
    "                    total_price = unit_price * quantity\n",
    "\n",
    "                    # Insert the order into the Orders and OrderDetails tables\n",
    "                    cursor.execute(\"INSERT INTO Orders (customer_id, total_amount) VALUES (%s, %s)\", (customer_id, total_price))\n",
    "                    order_id = cursor.lastrowid\n",
    "                    cursor.execute(\"INSERT INTO OrderDetails (order_id, product_id, quantity, unit_price, total_price) VALUES (%s, %s, %s, %s, %s)\", (order_id, product_id, quantity, unit_price, total_price))\n",
    "\n",
    "                    # Update product quantity\n",
    "                    new_quantity = available_quantity - quantity\n",
    "                    cursor.execute(\"UPDATE Products SET quantity_available = %s WHERE product_id = %s\", (new_quantity, product_id))\n",
    "\n",
    "                    db.commit()\n",
    "                    print(\"Order placed successfully!\")\n",
    "                else:\n",
    "                    print(\"Product price not found.\")\n",
    "            else:\n",
    "                print(\"Product is not available in the requested quantity.\")\n",
    "        else:\n",
    "            print(\"Product not found.\")\n",
    "    except Exception as e:\n",
    "        db.rollback()\n",
    "        print(\"Error:\", e)\n",
    "    finally:\n",
    "        cursor.close()\n",
    "        db.close()\n",
    "\n",
    "# Example usage\n",
    "place_order(1, 3, 2)  # Place an order for 2 units of product with ID 101 for customer with ID 1"
   ]
  },
  {
   "cell_type": "markdown",
   "id": "0a0bffd5",
   "metadata": {},
   "source": [
    "# 3: you are tasked with developing a python program"
   ]
  },
  {
   "cell_type": "raw",
   "id": "509bea4b",
   "metadata": {},
   "source": [
    "that connects to a mysql database, retrueves data from atable, \n",
    "performs some operations on the data, and updates the database \n",
    "with the modifies data please write python code to accomplish this task\n",
    "\n",
    "Instructions:\n",
    "1: Assume that you have a mysql database server running with the following details:\n",
    "         1.Host : localhost\n",
    "        2.Port : 3306\n",
    "       3. Username: your_username\n",
    "        4.Password:your_password\n",
    "        5.Database Name: your_database\n",
    "         6.Table Name: ypur_table\n",
    "       7. the table has the following columns: id (int), name (varchar), quantity(int)\n",
    "2:your pythonprogram should:\n",
    "          1.connect to the mysql database\n",
    "          2. retrieve all records from your_table table\n",
    "          3. calculate the total quantity of all records retrieved\n",
    "          4. Update the quantity column of eeach  record by doubling its value\n",
    "          5. commit the changes to the database     \n",
    "          6.close the database connection\n",
    "3:Handle any potential errors that may occur during the database connection and data manipulation such as connection failures or SQL errors\n",
    "4:Provide comments in your code to explain each step"
   ]
  },
  {
   "cell_type": "code",
   "execution_count": 1,
   "id": "2d1f9d0d",
   "metadata": {},
   "outputs": [
    {
     "name": "stdout",
     "output_type": "stream",
     "text": [
      "Connected to MySQL database\n",
      "Total quantity of all records: 60\n",
      "Records updated successfully\n",
      "Database connection closed\n"
     ]
    }
   ],
   "source": [
    "import mysql.connector\n",
    "from mysql.connector import Error\n",
    "\n",
    "try:\n",
    "    # 1. Establish a connection to the MySQL database\n",
    "    conn = mysql.connector.connect(\n",
    "        host=\"127.0.0.1\",\n",
    "        port=3306,\n",
    "        user=\"root\",\n",
    "        password=\"Pravallika@123\",\n",
    "        database=\"product_details_sample\"\n",
    "    )\n",
    "\n",
    "    if conn.is_connected():\n",
    "        print(\"Connected to MySQL database\")\n",
    "\n",
    "        # 2. Retrieve all records from the 'your_table' table\n",
    "        \n",
    "        cur = conn.cursor()\n",
    "        cur.execute(\"SELECT * FROM product_details\")\n",
    "        records = cur.fetchall()\n",
    "\n",
    "        # 3. Calculate the total quantity of all records retrieved\n",
    "        total_quantity = sum(record[2] for record in records)\n",
    "        # 4. Update the quantity column of each record by doubling its value\n",
    "        for record in records:\n",
    "            new_quantity = record[2] * 2\n",
    "            cur.execute(\"UPDATE product_details SET quantity = %s WHERE id = %s\", (new_quantity, record[0]))\n",
    "\n",
    "        # 5. Commit the changes to the database\n",
    "        conn.commit()\n",
    "        print(f\"Total quantity of all records: {total_quantity}\")\n",
    "        print(\"Records updated successfully\")\n",
    "\n",
    "except Error as e:\n",
    "    print(f\"Error: {e}\")\n",
    "\n",
    "finally:\n",
    "    if conn.is_connected():\n",
    "        # 6. Close the database connection\n",
    "        cur.close()\n",
    "        conn.close()\n",
    "        print(\"Database connection closed\")"
   ]
  },
  {
   "cell_type": "markdown",
   "id": "df06f331",
   "metadata": {},
   "source": [
    "# 4:You are developing an employee management system for a company."
   ]
  },
  {
   "cell_type": "code",
   "execution_count": null,
   "id": "7161a57e",
   "metadata": {},
   "outputs": [],
   "source": [
    "# The database should store employee information, including name, salary, department, and hire date.\n",
    "# managers should be able to view and update the employee details\n",
    "#     1: Design the database schema for the employee management system\n",
    "#     2: Write python code to connect to the database and retrieve a list of employees in a specific department\n",
    "#     3: Implement a feature to update an employee's salary"
   ]
  },
  {
   "cell_type": "code",
   "execution_count": 3,
   "id": "5c5da8a1",
   "metadata": {},
   "outputs": [
    {
     "name": "stdout",
     "output_type": "stream",
     "text": [
      "Enter department name: HR\n",
      "Employees in the HR department:\n",
      "Name: John Doe\n",
      "Salary: 60000.00\n",
      "Hire Date: 2020-01-15\n"
     ]
    }
   ],
   "source": [
    "import mysql.connector\n",
    "from mysql.connector import Error\n",
    "\n",
    "def connect_db():\n",
    "    try:\n",
    "        conn = mysql.connector.connect(\n",
    "            host=\"127.0.0.1\",\n",
    "            user=\"root\",\n",
    "            password=\"Pravallika@123\",\n",
    "            database=\"employee_management_system\"\n",
    "        )\n",
    "        return conn\n",
    "    except Error as e:\n",
    "        print(f\"Database connection error: {e}\")\n",
    "        return None\n",
    "\n",
    "def retrieve_employees_by_dept(conn, dept_name):\n",
    "    try:\n",
    "        cur = conn.cursor(dictionary=True)\n",
    "        cur.execute(\"\"\"\n",
    "            select emp_name, salary, hire_date\n",
    "            from employee\n",
    "            inner join dept on employee.dept_id = dept.dept_id\n",
    "            where dept.dept_name = %s\n",
    "        \"\"\", (dept_name,))\n",
    "        employees = cur.fetchall()\n",
    "        return employees\n",
    "    except Error as e:\n",
    "        print(f\"Error retrieving employees: {e}\")\n",
    "        return []\n",
    "if __name__ == \"__main__\":\n",
    "    conn = connect_db()\n",
    "    if conn:\n",
    "        dept_name = input(\"Enter department name: \")\n",
    "        employee = retrieve_employees_by_dept(conn, dept_name)\n",
    "        if employee:\n",
    "            print(\"Employees in the\", dept_name, \"department:\")\n",
    "            for emp in employee:\n",
    "                print(\"Name:\", emp[\"emp_name\"])\n",
    "                print(\"Salary:\", emp[\"salary\"])\n",
    "                print(\"Hire Date:\", emp[\"hire_date\"])\n",
    "        else:\n",
    "            print(\"No employees found in the\", dept_name, \"department.\")\n",
    "        conn.close()"
   ]
  },
  {
   "cell_type": "code",
   "execution_count": null,
   "id": "2cce09fb",
   "metadata": {},
   "outputs": [],
   "source": []
  }
 ],
 "metadata": {
  "kernelspec": {
   "display_name": "Python 3 (ipykernel)",
   "language": "python",
   "name": "python3"
  },
  "language_info": {
   "codemirror_mode": {
    "name": "ipython",
    "version": 3
   },
   "file_extension": ".py",
   "mimetype": "text/x-python",
   "name": "python",
   "nbconvert_exporter": "python",
   "pygments_lexer": "ipython3",
   "version": "3.11.4"
  }
 },
 "nbformat": 4,
 "nbformat_minor": 5
}
