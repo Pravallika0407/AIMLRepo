{
 "cells": [
  {
   "cell_type": "code",
   "execution_count": 2,
   "id": "6bb4053c",
   "metadata": {},
   "outputs": [
    {
     "name": "stdout",
     "output_type": "stream",
     "text": [
      "Requirement already satisfied: pandas in c:\\users\\kalimi prakash\\anaconda3\\lib\\site-packages (1.5.3)\n",
      "Requirement already satisfied: python-dateutil>=2.8.1 in c:\\users\\kalimi prakash\\anaconda3\\lib\\site-packages (from pandas) (2.8.2)\n",
      "Requirement already satisfied: pytz>=2020.1 in c:\\users\\kalimi prakash\\anaconda3\\lib\\site-packages (from pandas) (2022.7)\n",
      "Requirement already satisfied: numpy>=1.21.0 in c:\\users\\kalimi prakash\\anaconda3\\lib\\site-packages (from pandas) (1.24.3)\n",
      "Requirement already satisfied: six>=1.5 in c:\\users\\kalimi prakash\\anaconda3\\lib\\site-packages (from python-dateutil>=2.8.1->pandas) (1.16.0)\n",
      "Note: you may need to restart the kernel to use updated packages.\n"
     ]
    }
   ],
   "source": [
    "pip install pandas"
   ]
  },
  {
   "cell_type": "code",
   "execution_count": 1,
   "id": "e3930f51",
   "metadata": {},
   "outputs": [],
   "source": [
    "%matplotlib inline \n",
    "import pandas as pd"
   ]
  },
  {
   "cell_type": "code",
   "execution_count": 4,
   "id": "241cc970",
   "metadata": {},
   "outputs": [
    {
     "data": {
      "text/html": [
       "<div>\n",
       "<style scoped>\n",
       "    .dataframe tbody tr th:only-of-type {\n",
       "        vertical-align: middle;\n",
       "    }\n",
       "\n",
       "    .dataframe tbody tr th {\n",
       "        vertical-align: top;\n",
       "    }\n",
       "\n",
       "    .dataframe thead th {\n",
       "        text-align: right;\n",
       "    }\n",
       "</style>\n",
       "<table border=\"1\" class=\"dataframe\">\n",
       "  <thead>\n",
       "    <tr style=\"text-align: right;\">\n",
       "      <th></th>\n",
       "      <th>title</th>\n",
       "      <th>year</th>\n",
       "    </tr>\n",
       "  </thead>\n",
       "  <tbody>\n",
       "    <tr>\n",
       "      <th>0</th>\n",
       "      <td>Tasveer Mere Sanam</td>\n",
       "      <td>1996</td>\n",
       "    </tr>\n",
       "    <tr>\n",
       "      <th>1</th>\n",
       "      <td>Only You</td>\n",
       "      <td>1994</td>\n",
       "    </tr>\n",
       "    <tr>\n",
       "      <th>2</th>\n",
       "      <td>El pueblo del terror</td>\n",
       "      <td>1970</td>\n",
       "    </tr>\n",
       "    <tr>\n",
       "      <th>3</th>\n",
       "      <td>Machine</td>\n",
       "      <td>2007</td>\n",
       "    </tr>\n",
       "    <tr>\n",
       "      <th>4</th>\n",
       "      <td>MARy</td>\n",
       "      <td>2008</td>\n",
       "    </tr>\n",
       "  </tbody>\n",
       "</table>\n",
       "</div>"
      ],
      "text/plain": [
       "                  title  year\n",
       "0    Tasveer Mere Sanam  1996\n",
       "1              Only You  1994\n",
       "2  El pueblo del terror  1970\n",
       "3               Machine  2007\n",
       "4                  MARy  2008"
      ]
     },
     "execution_count": 4,
     "metadata": {},
     "output_type": "execute_result"
    }
   ],
   "source": [
    "titles = pd.read_csv(\"titles.csv\")\n",
    "titles.head()"
   ]
  },
  {
   "cell_type": "markdown",
   "id": "bb040064",
   "metadata": {},
   "source": [
    "# 1. How many movies are listed in the titles dataframe?"
   ]
  },
  {
   "cell_type": "code",
   "execution_count": 5,
   "id": "f006adcd",
   "metadata": {},
   "outputs": [
    {
     "name": "stdout",
     "output_type": "stream",
     "text": [
      "Total number of movies listed: 244914\n"
     ]
    }
   ],
   "source": [
    "import pandas as pd\n",
    "\n",
    "df = pd.read_csv(\"titles.csv\")\n",
    "\n",
    "num_movies = len(df)\n",
    "\n",
    "print(f'Total number of movies listed: {num_movies}')"
   ]
  },
  {
   "cell_type": "markdown",
   "id": "1cae2554",
   "metadata": {},
   "source": [
    "# 2.What are the earliest two films listed in the titles dataframe?"
   ]
  },
  {
   "cell_type": "code",
   "execution_count": 6,
   "id": "c039ec2b",
   "metadata": {},
   "outputs": [
    {
     "name": "stdout",
     "output_type": "stream",
     "text": [
      "                     title  year\n",
      "193222          Miss Jerry  1894\n",
      "51388   The Startled Lover  1898\n"
     ]
    }
   ],
   "source": [
    "earliest_films = titles.sort_values(by='year', ascending=True).head(2)\n",
    "\n",
    "# Print the earliest two films\n",
    "print(earliest_films)"
   ]
  },
  {
   "cell_type": "markdown",
   "id": "db307927",
   "metadata": {},
   "source": [
    "# 4. How many movies are titled \"North by Northwest\"?"
   ]
  },
  {
   "cell_type": "code",
   "execution_count": 7,
   "id": "63842dce",
   "metadata": {},
   "outputs": [
    {
     "name": "stdout",
     "output_type": "stream",
     "text": [
      "Number of movies titled 'North by Northwest': 1\n"
     ]
    }
   ],
   "source": [
    "north_by_northwest_count = titles[titles['title'] == 'North by Northwest'].shape[0]\n",
    "\n",
    "# Print the count\n",
    "print(\"Number of movies titled 'North by Northwest':\", north_by_northwest_count)"
   ]
  },
  {
   "cell_type": "markdown",
   "id": "f04576f9",
   "metadata": {},
   "source": [
    "# 5. When was the first movie titled \"Hamlet\" made?"
   ]
  },
  {
   "cell_type": "code",
   "execution_count": 8,
   "id": "80138ae3",
   "metadata": {},
   "outputs": [
    {
     "name": "stdout",
     "output_type": "stream",
     "text": [
      "The first movie titled 'Hamlet' was made in the year: 1910\n"
     ]
    }
   ],
   "source": [
    "hamlet_movies = titles[titles['title'] == 'Hamlet']\n",
    "\n",
    "# Sort the filtered dataframe by the 'year' column in ascending order and select the first row\n",
    "first_hamlet_movie = hamlet_movies.sort_values(by='year').iloc[0]\n",
    "\n",
    "# Print the year of the first \"Hamlet\" movie\n",
    "print(\"The first movie titled 'Hamlet' was made in the year:\", first_hamlet_movie['year'])"
   ]
  },
  {
   "cell_type": "markdown",
   "id": "a61935c5",
   "metadata": {},
   "source": [
    "# 6. List all the \"Treasure Island\" movies from earliest to most recent"
   ]
  },
  {
   "cell_type": "code",
   "execution_count": 15,
   "id": "bf179338",
   "metadata": {},
   "outputs": [
    {
     "name": "stdout",
     "output_type": "stream",
     "text": [
      "List of Treasure Island movies:\n",
      "\n",
      "1918\t : Treasure Island\n",
      "1920\t : Treasure Island\n",
      "1934\t : Treasure Island\n",
      "1950\t : Treasure Island\n",
      "1972\t : Treasure Island\n",
      "1973\t : Treasure Island\n",
      "1985\t : Treasure Island\n",
      "1999\t : Treasure Island\n"
     ]
    }
   ],
   "source": [
    "treasure = titles[titles[\"title\"] == \"Treasure Island\"]\n",
    "treasure_mvs = treasure.sort_values(by=\"year\")\n",
    "print(f\"List of Treasure Island movies:\\n\")\n",
    "for index, row in treasure_mvs.iterrows():\n",
    "    print(f'{row[\"year\"]}\\t : {row[\"title\"]}')"
   ]
  },
  {
   "cell_type": "markdown",
   "id": "0e7a805d",
   "metadata": {},
   "source": [
    "# 7. How many movies were made in the year 1950?"
   ]
  },
  {
   "cell_type": "code",
   "execution_count": 9,
   "id": "90f1d809",
   "metadata": {},
   "outputs": [
    {
     "name": "stdout",
     "output_type": "stream",
     "text": [
      "Number of movies made in 1950: 1113\n"
     ]
    }
   ],
   "source": [
    "# Assuming your dataframe is named 'titles'\n",
    "# Filter the dataframe to include only rows where the 'year' column is equal to 1950\n",
    "movies_1950 = titles[titles['year'] == 1950]\n",
    "\n",
    "# Get the count of movies made in 1950\n",
    "count_1950_movies = len(movies_1950)\n",
    "\n",
    "# Print the count\n",
    "print(\"Number of movies made in 1950:\", count_1950_movies)"
   ]
  },
  {
   "cell_type": "markdown",
   "id": "d000960e",
   "metadata": {},
   "source": [
    "# 8. How many movies were made in the year 1960?"
   ]
  },
  {
   "cell_type": "code",
   "execution_count": 10,
   "id": "0c84dabc",
   "metadata": {},
   "outputs": [
    {
     "name": "stdout",
     "output_type": "stream",
     "text": [
      "Number of movies made in 1960: 1549\n"
     ]
    }
   ],
   "source": [
    "# Assuming your dataframe is named 'titles'\n",
    "# Filter the dataframe to include only rows where the 'year' column is equal to 1960\n",
    "movies_1960 = titles[titles['year'] == 1960]\n",
    "\n",
    "# Get the count of movies made in 1960\n",
    "count_1960_movies = len(movies_1960)\n",
    "\n",
    "# Print the count\n",
    "print(\"Number of movies made in 1960:\", count_1960_movies)"
   ]
  },
  {
   "cell_type": "markdown",
   "id": "7c2a5e6b",
   "metadata": {},
   "source": [
    "# 9. How many movies were made from 1950 through 1959?"
   ]
  },
  {
   "cell_type": "code",
   "execution_count": 11,
   "id": "d2435f0b",
   "metadata": {},
   "outputs": [
    {
     "name": "stdout",
     "output_type": "stream",
     "text": [
      "Number of movies made from 1950 through 1959: 12934\n"
     ]
    }
   ],
   "source": [
    "# Assuming your dataframe is named 'titles'\n",
    "# Filter the dataframe to include only rows where the 'year' column is within the range 1950-1959\n",
    "movies_1950s = titles[(titles['year'] >= 1950) & (titles['year'] <= 1959)]\n",
    "\n",
    "# Get the count of movies made in the 1950s\n",
    "count_1950s_movies = len(movies_1950s)\n",
    "\n",
    "# Print the count\n",
    "print(\"Number of movies made from 1950 through 1959:\", count_1950s_movies)"
   ]
  },
  {
   "cell_type": "markdown",
   "id": "ba50e2fd",
   "metadata": {},
   "source": [
    "# 10. In what years has a movie titled \"Batman\" been released?"
   ]
  },
  {
   "cell_type": "code",
   "execution_count": 12,
   "id": "d2c44542",
   "metadata": {},
   "outputs": [
    {
     "name": "stdout",
     "output_type": "stream",
     "text": [
      "Years in which a movie titled 'Batman' has been released: [1943 1989]\n"
     ]
    }
   ],
   "source": [
    "# Assuming your dataframe is named 'titles'\n",
    "# Filter the dataframe to include only rows where the 'title' column is equal to \"Batman\"\n",
    "batman_movies = titles[titles['title'] == 'Batman']\n",
    "\n",
    "# Get the unique years from the filtered dataframe\n",
    "years_of_batman_movies = batman_movies['year'].unique()\n",
    "\n",
    "# Print the years\n",
    "print(\"Years in which a movie titled 'Batman' has been released:\", years_of_batman_movies)"
   ]
  },
  {
   "cell_type": "code",
   "execution_count": 16,
   "id": "fa911cd2",
   "metadata": {},
   "outputs": [
    {
     "name": "stdout",
     "output_type": "stream",
     "text": [
      "                  title  year      name   type                character     n\n",
      "0        Closet Monster  2015  Buffy #1  actor                  Buffy 4  31.0\n",
      "1       Suuri illusioni  1985    Homo $  actor                   Guests  22.0\n",
      "2   Battle of the Sexes  2017   $hutter  actor          Bobby Riggs Fan  10.0\n",
      "3  Secret in Their Eyes  2015   $hutter  actor          2002 Dodger Fan   NaN\n",
      "4            Steve Jobs  2015   $hutter  actor  1988 Opera House Patron   NaN\n"
     ]
    }
   ],
   "source": [
    "cast= pd.read_csv(\"cast.csv\")\n",
    "print(cast.head())"
   ]
  },
  {
   "cell_type": "markdown",
   "id": "cfccc192",
   "metadata": {},
   "source": [
    "# 11. How many roles were there in the movie \"Inception\"?"
   ]
  },
  {
   "cell_type": "code",
   "execution_count": 17,
   "id": "8c7aad29",
   "metadata": {},
   "outputs": [
    {
     "name": "stdout",
     "output_type": "stream",
     "text": [
      "The number of roles in the movie \"Inception\" is: 56\n"
     ]
    }
   ],
   "source": [
    "import pandas as pd\n",
    "\n",
    "csv_file = \"cast.csv\"\n",
    "\n",
    "df = pd.read_csv(csv_file)\n",
    "\n",
    "inception_roles = df[df['title'] == 'Inception']\n",
    "\n",
    "num_roles_inception = inception_roles['character'].nunique()\n",
    "\n",
    "print(f'The number of roles in the movie \"Inception\" is: {num_roles_inception}')"
   ]
  },
  {
   "cell_type": "markdown",
   "id": "51cdee8c",
   "metadata": {},
   "source": [
    "# 12. How many roles in the movie \"Inception\" are Not ranked an \"n\" Value"
   ]
  },
  {
   "cell_type": "code",
   "execution_count": 18,
   "id": "a3b4e9d1",
   "metadata": {},
   "outputs": [
    {
     "name": "stdout",
     "output_type": "stream",
     "text": [
      "Number of roles in Inception without a ranked n is\t:  27\n"
     ]
    }
   ],
   "source": [
    "inception_cast = cast[cast[\"title\"] == \"Inception\"]\n",
    "roles_without_n = inception_cast[\"n\"].isna().sum()\n",
    "print(\"Number of roles in Inception without a ranked n is\\t: \", end=\" \")\n",
    "print(roles_without_n)"
   ]
  },
  {
   "cell_type": "markdown",
   "id": "3a51865e",
   "metadata": {},
   "source": [
    "# 13. But how many roles in movie \"Inception\" did receive an \"n\" value"
   ]
  },
  {
   "cell_type": "code",
   "execution_count": 19,
   "id": "04b7075f",
   "metadata": {},
   "outputs": [
    {
     "name": "stdout",
     "output_type": "stream",
     "text": [
      "Number of roles in Inception with ranked n is\t:  51\n"
     ]
    }
   ],
   "source": [
    "inception_cast = cast[cast[\"title\"] == \"Inception\"]\n",
    "roles_with_n = inception_cast[\"n\"].count()\n",
    "print(\"Number of roles in Inception with ranked n is\\t: \", end=\" \")\n",
    "print(roles_with_n)"
   ]
  },
  {
   "cell_type": "markdown",
   "id": "1658a80b",
   "metadata": {},
   "source": [
    "# 14. Display the cast of \"North by Northwest\" in their correct \"n\" value order"
   ]
  },
  {
   "cell_type": "code",
   "execution_count": 20,
   "id": "4340ced1",
   "metadata": {},
   "outputs": [
    {
     "name": "stdout",
     "output_type": "stream",
     "text": [
      "            n                    character\n",
      "871426    1.0           Roger O. Thornhill\n",
      "3518333   2.0                  Eve Kendall\n",
      "1457165   3.0              Phillip Vandamm\n",
      "3157232   4.0              Clara Thornhill\n",
      "356707    5.0                The Professor\n",
      "3048272   6.0                Mrs. Townsend\n",
      "1695173   7.0              Lester Townsend\n",
      "1275337   8.0                      Leonard\n",
      "2447081   9.0                     Valerian\n",
      "1811387  10.0              Victor Larrabee\n",
      "665768   11.0                        Licht\n",
      "2295714  12.0                   Auctioneer\n",
      "464736   13.0                    Dr. Cross\n",
      "1508344  14.0               Sergeant Flamm\n",
      "206471   15.0               Captain Junket\n",
      "1384780  16.0  Charley - Chicago Policeman\n"
     ]
    }
   ],
   "source": [
    "north = cast[cast[\"title\"] == \"North by Northwest\"]\n",
    "north= north.dropna(subset=[\"n\"])\n",
    "north_sort = north.sort_values(by = \"n\")\n",
    "print(north_sort[[\"n\", \"character\"]])"
   ]
  },
  {
   "cell_type": "markdown",
   "id": "2cc32ed1",
   "metadata": {},
   "source": [
    "# 15. Display the entire cast, in \"n\"-order, of th e1972 film \"sleuth\""
   ]
  },
  {
   "cell_type": "code",
   "execution_count": 21,
   "id": "2e31be34",
   "metadata": {},
   "outputs": [
    {
     "name": "stdout",
     "output_type": "stream",
     "text": [
      "           n                name                   character  year\n",
      "1705394  1.0    Laurence Olivier                 Andrew Wyke  1972\n",
      "326773   2.0       Michael Caine                 Milo Tindle  1972\n",
      "373876   3.0      Alec Cawthorne           Inspector Doppler  1972\n",
      "1465483  4.0  John (II) Matthews  Detective Sergeant Tarrant  1972\n",
      "2724553  5.0  Eve (III) Channing             Marguerite Wyke  1972\n",
      "1448690  6.0        Teddy Martin      Police Constable Higgs  1972\n"
     ]
    }
   ],
   "source": [
    "cast_sleuth_1972 = cast[(cast[\"title\"] == \"Sleuth\") & \n",
    "                        (cast[\"year\"] == 1972)]\n",
    "cast_sorted = cast_sleuth_1972.sort_values(by=\"n\")\n",
    "print(cast_sorted[[\"n\", \"name\", \"character\", \"year\"]])"
   ]
  },
  {
   "cell_type": "markdown",
   "id": "76b13d8a",
   "metadata": {},
   "source": [
    "# 16. Now display the entire cast, in \"n\"-order, of the 2007 version \"Sleuth\"."
   ]
  },
  {
   "cell_type": "code",
   "execution_count": 22,
   "id": "ae3dfaa8",
   "metadata": {},
   "outputs": [
    {
     "name": "stdout",
     "output_type": "stream",
     "text": [
      "           n                name                   character  year\n",
      "1705394  1.0    Laurence Olivier                 Andrew Wyke  1972\n",
      "326773   2.0       Michael Caine                 Milo Tindle  1972\n",
      "373876   3.0      Alec Cawthorne           Inspector Doppler  1972\n",
      "1465483  4.0  John (II) Matthews  Detective Sergeant Tarrant  1972\n",
      "2724553  5.0  Eve (III) Channing             Marguerite Wyke  1972\n",
      "1448690  6.0        Teddy Martin      Police Constable Higgs  1972\n"
     ]
    }
   ],
   "source": [
    "# cast_sleuth_1972 = cast[(cast[\"title\"] == \"Sleuth\") & (cast[\"year\"] == 2007)]\n",
    "cast_sorted = cast_sleuth_1972.sort_values(by=\"n\")\n",
    "print(cast_sorted[[\"n\", \"name\", \"character\",\"year\"]])"
   ]
  },
  {
   "cell_type": "markdown",
   "id": "ec44533d",
   "metadata": {},
   "source": [
    "# 17. How many roles were credited in the silent 1921 version of Hamlet"
   ]
  },
  {
   "cell_type": "code",
   "execution_count": 23,
   "id": "5be474d2",
   "metadata": {},
   "outputs": [
    {
     "name": "stdout",
     "output_type": "stream",
     "text": [
      "NUmber of credited roles in the silent 1921 version of Hamlet is: 9\n"
     ]
    }
   ],
   "source": [
    "hamlet_1921 = cast[(cast[\"title\"] == \"Hamlet\") & \n",
    "                   (cast[\"year\"] == 1921)]\n",
    "roles = hamlet_1921[\"character\"].count()\n",
    "print(\"NUmber of credited roles in the silent 1921 version of Hamlet is: \", end=\"\")\n",
    "print(roles)"
   ]
  },
  {
   "cell_type": "markdown",
   "id": "8fd0a2ce",
   "metadata": {},
   "source": [
    "# 18. How many roles were credited in Branagh's 1996 Hamlet"
   ]
  },
  {
   "cell_type": "code",
   "execution_count": 24,
   "id": "e488d02f",
   "metadata": {},
   "outputs": [
    {
     "name": "stdout",
     "output_type": "stream",
     "text": [
      "Number of credited roles in the silent 1996 Hamlet is: 54\n"
     ]
    }
   ],
   "source": [
    "hamlet_1996 = cast[(cast[\"title\"] ==  \"Hamlet\") & (cast[\"year\"] == 1996)]\n",
    "roles = hamlet_1996[\"character\"].count()\n",
    "print(\"Number of credited roles in the silent 1996 Hamlet is: \", end=\"\")\n",
    "print(roles)"
   ]
  },
  {
   "cell_type": "markdown",
   "id": "f7f70450",
   "metadata": {},
   "source": [
    "# 19. How many \"Hamlet\" roles have been listed in all film credits through history"
   ]
  },
  {
   "cell_type": "code",
   "execution_count": 25,
   "id": "e956fd5b",
   "metadata": {},
   "outputs": [
    {
     "name": "stdout",
     "output_type": "stream",
     "text": [
      "Number of roles listed in all film credits: 485\n"
     ]
    }
   ],
   "source": [
    "hamlet = cast[cast[\"title\"].str.contains(\"Hamlet\", case = False, regex = False)]\n",
    "roles = len(hamlet[\"character\"].unique())\n",
    "print(\"Number of roles listed in all film credits: \", end=\"\")\n",
    "print(roles)"
   ]
  },
  {
   "cell_type": "markdown",
   "id": "704d31dd",
   "metadata": {},
   "source": [
    "# 20. how many people have played an \"Ophelia\""
   ]
  },
  {
   "cell_type": "code",
   "execution_count": 28,
   "id": "226f16e9",
   "metadata": {},
   "outputs": [
    {
     "name": "stdout",
     "output_type": "stream",
     "text": [
      "Number of people have pllayed an Ophelia is: 115\n"
     ]
    }
   ],
   "source": [
    "ppl = cast[cast[\"character\"] == \"Ophelia\"]\n",
    "ppl_count = len(ppl[\"name\"].unique())\n",
    "\n",
    "print(\"Number of people have pllayed an Ophelia is: \", end=\"\")\n",
    "print(ppl_count)"
   ]
  },
  {
   "cell_type": "markdown",
   "id": "5be0b54c",
   "metadata": {},
   "source": [
    "# 21. How many people have played a role called \"The Dude\""
   ]
  },
  {
   "cell_type": "code",
   "execution_count": 27,
   "id": "0067d38e",
   "metadata": {},
   "outputs": [
    {
     "name": "stdout",
     "output_type": "stream",
     "text": [
      "Number of people have pllayed an The Dude is: 19\n"
     ]
    }
   ],
   "source": [
    "ppl = cast[cast[\"character\"] == \"The Dude\"]\n",
    "ppl_count = len(ppl[\"name\"].unique())\n",
    "print(\"Number of people have pllayed an The Dude is: \", end=\"\")\n",
    "print(ppl_count)"
   ]
  },
  {
   "cell_type": "markdown",
   "id": "af607b22",
   "metadata": {},
   "source": [
    "# 22. How many people have played a role called \"The Stranger\""
   ]
  },
  {
   "cell_type": "code",
   "execution_count": 29,
   "id": "458e17e2",
   "metadata": {},
   "outputs": [
    {
     "name": "stdout",
     "output_type": "stream",
     "text": [
      "Number of people have pllayed an The Stranger is: 202\n"
     ]
    }
   ],
   "source": [
    "ppl = cast[cast[\"character\"] == \"The Stranger\"]\n",
    "ppl_count = len(ppl[\"name\"].unique())\n",
    "print(\"Number of people have pllayed an The Stranger is: \", end=\"\")\n",
    "print(ppl_count)"
   ]
  },
  {
   "cell_type": "markdown",
   "id": "979caa67",
   "metadata": {},
   "source": [
    "# 23. How many roles has Sidney Poitier played throughout his career"
   ]
  },
  {
   "cell_type": "code",
   "execution_count": 30,
   "id": "63f7f101",
   "metadata": {},
   "outputs": [
    {
     "name": "stdout",
     "output_type": "stream",
     "text": [
      "Sidney Poitier has played : 41 roles throughout his career\n"
     ]
    }
   ],
   "source": [
    "sidney = cast[cast[\"name\"]== \"Sidney Poitier\"]\n",
    "roles_count = len(sidney[\"character\"].unique())\n",
    "print(\"Sidney Poitier has played : \", end=\"\")\n",
    "print(roles_count, \"roles throughout his career\")"
   ]
  },
  {
   "cell_type": "markdown",
   "id": "658e0623",
   "metadata": {},
   "source": [
    "# 24. How many roles has Judi Dench played"
   ]
  },
  {
   "cell_type": "code",
   "execution_count": 31,
   "id": "c4f78870",
   "metadata": {},
   "outputs": [
    {
     "name": "stdout",
     "output_type": "stream",
     "text": [
      "Judi Dench has played : 46 roles throughout his career\n"
     ]
    }
   ],
   "source": [
    "judi = cast[cast[\"name\"]== \"Judi Dench\"]\n",
    "roles_count = len(judi[\"character\"].unique())\n",
    "print(\"Judi Dench has played : \", end=\"\")\n",
    "print(roles_count, \"roles throughout his career\")"
   ]
  },
  {
   "cell_type": "markdown",
   "id": "4cb7f5ec",
   "metadata": {},
   "source": [
    "# 25. List the supporting roles (havinh n=2) played by cary Grant in the 1940s in order by year"
   ]
  },
  {
   "cell_type": "code",
   "execution_count": 32,
   "id": "e9bf4dd8",
   "metadata": {},
   "outputs": [
    {
     "name": "stdout",
     "output_type": "stream",
     "text": [
      "Supporting roles played by Cary Grant in tht year 1940s: \n",
      "                   title  year        name   type    character    n\n",
      "871423  My Favorite Wife  1940  Cary Grant  actor   Nick Arden  2.0\n",
      "871433    Penny Serenade  1941  Cary Grant  actor  Roger Adams  2.0\n"
     ]
    }
   ],
   "source": [
    "list = cast[(cast[\"name\"] == \"Cary Grant\") & \n",
    "            (cast[\"n\"] == 2) & \n",
    "            (cast[\"year\"] >= 1940) & \n",
    "            (cast[\"year\"] <= 1949)]\n",
    "cary_grant = list.sort_values(by =\"year\")\n",
    "print(\"Supporting roles played by Cary Grant in tht year 1940s: \")\n",
    "print(cary_grant)"
   ]
  },
  {
   "cell_type": "markdown",
   "id": "542283be",
   "metadata": {},
   "source": [
    "# 26. List the leading roles that Cary Grant played in the 1940s in order by the year"
   ]
  },
  {
   "cell_type": "code",
   "execution_count": 33,
   "id": "aa9ce200",
   "metadata": {},
   "outputs": [
    {
     "name": "stdout",
     "output_type": "stream",
     "text": [
      "Leading roles played by Cary Grant in tht year 1940s: \n",
      "Year : 1940 , Character : Matt Howard, Title: The Howards of Virginia\n",
      "Year : 1940 , Character : Walter Burns, Title: His Girl Friday\n",
      "Year : 1940 , Character : C. K. Dexter Haven, Title: The Philadelphia Story\n",
      "Year : 1941 , Character : Johnnie Aysgarth, Title: Suspicion\n",
      "Year : 1942 , Character : Leopold Dilg, Title: The Talk of the Town\n",
      "Year : 1942 , Character : Patrick 'Pat' O'Toole, Title: Once Upon a Honeymoon\n",
      "Year : 1943 , Character : Capt. Cassidy, Title: Destination Tokyo\n",
      "Year : 1943 , Character : Joe Adams -posing as Joe Bascopolous, Title: Mr. Lucky\n",
      "Year : 1944 , Character : Jerry Flynn, Title: Once Upon a Time\n",
      "Year : 1944 , Character : Mortimer Brewster, Title: Arsenic and Old Lace\n",
      "Year : 1944 , Character : Ernie Mott, Title: None But the Lonely Heart\n",
      "Year : 1946 , Character : Cole Porter, Title: Night and Day\n",
      "Year : 1946 , Character : Devlin, Title: Notorious\n",
      "Year : 1947 , Character : Dick Nugent, Title: The Bachelor and the Bobby-Soxer\n",
      "Year : 1947 , Character : Dudley, Title: The Bishop's Wife\n",
      "Year : 1948 , Character : Jim Blandings, Title: Mr. Blandings Builds His Dream House\n",
      "Year : 1948 , Character : Dr. Madison Brown, Title: Every Girl Should Be Married\n",
      "Year : 1949 , Character : Captain Henri Rochard, Title: I Was a Male War Bride\n"
     ]
    }
   ],
   "source": [
    "list = cast[(cast[\"name\"] == \"Cary Grant\") & \n",
    "            (cast[\"n\"] == 1) & \n",
    "            (cast[\"year\"] >= 1940) & \n",
    "            (cast[\"year\"] <= 1949)]\n",
    "cary_grant = list.sort_values(by =\"year\")\n",
    "print(\"Leading roles played by Cary Grant in tht year 1940s: \")\n",
    "for index, row in cary_grant.iterrows():\n",
    "    print(f\"Year : {row['year']} , Character : {row['character']}, Title: {row['title']}\")"
   ]
  },
  {
   "cell_type": "markdown",
   "id": "f43180f7",
   "metadata": {},
   "source": [
    "# 27. How many roles were avaialable for actors in the 1950s"
   ]
  },
  {
   "cell_type": "code",
   "execution_count": 34,
   "id": "5d552cdb",
   "metadata": {},
   "outputs": [
    {
     "name": "stdout",
     "output_type": "stream",
     "text": [
      "num of roles in 1950s : 747201\n"
     ]
    }
   ],
   "source": [
    "roles_1950s = cast[(cast[\"year\"]>=1050) & (cast[\"year\"] <=1959)]\n",
    "role_c = len(roles_1950s)\n",
    "print(\"num of roles in 1950s : \", end=\"\")\n",
    "print(role_c)"
   ]
  },
  {
   "cell_type": "markdown",
   "id": "47148d21",
   "metadata": {},
   "source": [
    "# 28. How many roles were avaialable for actresses in the 1950s"
   ]
  },
  {
   "cell_type": "code",
   "execution_count": 35,
   "id": "ad05dc07",
   "metadata": {},
   "outputs": [
    {
     "name": "stdout",
     "output_type": "stream",
     "text": [
      "num of roles in 1950s : 199422\n"
     ]
    }
   ],
   "source": [
    "roles_1950s = cast[(cast[\"year\"]>=1050) & \n",
    "                   (cast[\"year\"] <=1959) & \n",
    "                   (cast[\"type\"] == \"actress\")]\n",
    "role_count = len(roles_1950s)\n",
    "print(\"num of roles in 1950s : \", end=\"\")\n",
    "print(role_count)"
   ]
  },
  {
   "cell_type": "markdown",
   "id": "309b0cad",
   "metadata": {},
   "source": [
    "# 29. How many leading roles were available from the begining of film history throughh 1980"
   ]
  },
  {
   "cell_type": "code",
   "execution_count": 36,
   "id": "ade4fbca",
   "metadata": {},
   "outputs": [
    {
     "name": "stdout",
     "output_type": "stream",
     "text": [
      "Num of leading roles from the begining to 1980: 65140\n"
     ]
    }
   ],
   "source": [
    "role_1980 = cast[(cast[\"year\"]<=1980) &\n",
    "                (cast[\"n\"] == 1)]\n",
    "count = len(role_1980)\n",
    "print(f\"Num of leading roles from the begining to 1980: {count}\")"
   ]
  },
  {
   "cell_type": "markdown",
   "id": "ad2f9890",
   "metadata": {},
   "source": [
    "# 30. How many non-leading roles were available through from the begining of film history through 1980"
   ]
  },
  {
   "cell_type": "code",
   "execution_count": 37,
   "id": "1a30487d",
   "metadata": {},
   "outputs": [
    {
     "name": "stdout",
     "output_type": "stream",
     "text": [
      "Num of non-leading roles from the begining to 1980: 448347\n"
     ]
    }
   ],
   "source": [
    "role_1980 = cast[(cast[\"year\"]<=1980) &\n",
    "                (cast[\"n\"].isna())]\n",
    "count = len(role_1980)\n",
    "print(f\"Num of non-leading roles from the begining to 1980: {count}\")"
   ]
  },
  {
   "cell_type": "markdown",
   "id": "34f95a28",
   "metadata": {},
   "source": [
    "# 31. How many roles through 1980 were minor enough that they did not warrant a numeric \"n\" rank"
   ]
  },
  {
   "cell_type": "code",
   "execution_count": 38,
   "id": "06459c1c",
   "metadata": {},
   "outputs": [
    {
     "name": "stdout",
     "output_type": "stream",
     "text": [
      "num of roles through 1980 not have n rank : 448347\n"
     ]
    }
   ],
   "source": [
    "minor_1980 = cast[(cast[\"year\"] <=1980) &\n",
    "                 cast[\"n\"].isna()]\n",
    "count_minor = len(minor_1980)\n",
    "print(f\"num of roles through 1980 not have n rank : {count_minor}\")"
   ]
  },
  {
   "cell_type": "code",
   "execution_count": null,
   "id": "aaa05c10",
   "metadata": {},
   "outputs": [],
   "source": []
  }
 ],
 "metadata": {
  "kernelspec": {
   "display_name": "Python 3 (ipykernel)",
   "language": "python",
   "name": "python3"
  },
  "language_info": {
   "codemirror_mode": {
    "name": "ipython",
    "version": 3
   },
   "file_extension": ".py",
   "mimetype": "text/x-python",
   "name": "python",
   "nbconvert_exporter": "python",
   "pygments_lexer": "ipython3",
   "version": "3.11.4"
  }
 },
 "nbformat": 4,
 "nbformat_minor": 5
}
